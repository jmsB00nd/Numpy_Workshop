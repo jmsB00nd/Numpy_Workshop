{
 "cells": [
  {
   "cell_type": "code",
   "execution_count": 1,
   "metadata": {},
   "outputs": [],
   "source": [
    "import numpy as np"
   ]
  },
  {
   "cell_type": "code",
   "execution_count": 40,
   "metadata": {},
   "outputs": [],
   "source": [
    "#defining the matrices\n",
    "\n",
    "Reply = np.array([\n",
    "    [1, 5, 5, 0, 3],\n",
    "    [2, 0, 5, 0, 3],\n",
    "    [0, 0, 0, 0, 0],\n",
    "    [2, 0, 0, 4, 0],\n",
    "    [0, 4, 2, 0, 0]\n",
    "])\n",
    "\n",
    "\n",
    "Retweet = np.array([\n",
    "    [0, 2, 4, 0, 0],\n",
    "    [0, 0, 0, 0, 0],\n",
    "    [0, 0, 0, 0, 0],\n",
    "    [0, 0, 0, 0, 3],\n",
    "    [0, 2, 5, 0, 0]\n",
    "])\n",
    "\n",
    "Like = np.array([\n",
    "    [2, 5, 1, 0, 3],\n",
    "    [0, 0, 0, 0, 0],\n",
    "    [0, 5, 0, 3, 3],\n",
    "    [1, 0, 0, 4, 1],\n",
    "    [0, 0, 9, 0, 0]\n",
    "])\n",
    "\n",
    "Post = np.array([2, 5, 10, 4, 3])\n"
   ]
  },
  {
   "cell_type": "markdown",
   "metadata": {},
   "source": [
    "# Engagement Statistics"
   ]
  },
  {
   "cell_type": "code",
   "execution_count": 7,
   "metadata": {},
   "outputs": [
    {
     "name": "stdout",
     "output_type": "stream",
     "text": [
      "the user is : User 0\n"
     ]
    }
   ],
   "source": [
    "#Find the user who replies more than others.\n",
    "\n",
    "print(f\"the user is : User {np.argmax(np.sum(Reply, axis=1))}\")"
   ]
  },
  {
   "cell_type": "code",
   "execution_count": 8,
   "metadata": {},
   "outputs": [
    {
     "name": "stdout",
     "output_type": "stream",
     "text": [
      "the user is : User 4\n"
     ]
    }
   ],
   "source": [
    "#Find the user who retweets more than others.\n",
    "print(f\"the user is : User {np.argmax(np.sum(Retweet, axis=1))}\")"
   ]
  },
  {
   "cell_type": "code",
   "execution_count": 12,
   "metadata": {},
   "outputs": [
    {
     "name": "stdout",
     "output_type": "stream",
     "text": [
      "users are : [0, 1, 3, 4]\n"
     ]
    }
   ],
   "source": [
    "#Find users who replied or retweeted at least once.\n",
    "Reply_Retweet_matrix = Reply + Retweet\n",
    "interacations = Reply_Retweet_matrix.sum(axis=1)\n",
    "\n",
    "users = [i for i in range(len(interacations)) if interacations[i]> 0]\n",
    "\n",
    "print(f\"users are : {users}\")"
   ]
  },
  {
   "cell_type": "code",
   "execution_count": 14,
   "metadata": {},
   "outputs": [
    {
     "name": "stdout",
     "output_type": "stream",
     "text": [
      "each user likes to him self : [2, 0, 0, 4, 0]\n"
     ]
    }
   ],
   "source": [
    "#Display the number of likes each user has given to their own tweets.\n",
    "diagnol = [int(Like[i][i]) for i in range(5)]\n",
    "\n",
    "print(f\"each user likes to him self : {diagnol}\")"
   ]
  },
  {
   "cell_type": "code",
   "execution_count": 19,
   "metadata": {},
   "outputs": [
    {
     "name": "stdout",
     "output_type": "stream",
     "text": [
      "number of likes user gives to others [ 9  0 11  2  9]\n"
     ]
    }
   ],
   "source": [
    "#Display the number of likes each user has given to tweets other than their own.\n",
    "diagnol = [Like[i][i] for i in range(5)]\n",
    "other_like = Like.sum(axis=1)-diagnol\n",
    "print(f\"number of likes user gives to others {other_like}\")"
   ]
  },
  {
   "cell_type": "code",
   "execution_count": 22,
   "metadata": {},
   "outputs": [
    {
     "name": "stdout",
     "output_type": "stream",
     "text": [
      "sefish users are : [3]\n",
      "thier number is : 1\n"
     ]
    }
   ],
   "source": [
    "#Find users who gave likes to their own tweets more than they gave to others\n",
    "diffrence = diagnol - other_like\n",
    "selfish_users = [i for i in range(len(diffrence)) if diffrence[i]>0]\n",
    "print(f\"selfish users are : {selfish_users}\")\n",
    "print(f\"thier number is : {len(selfish_users)}\")"
   ]
  },
  {
   "cell_type": "code",
   "execution_count": 23,
   "metadata": {},
   "outputs": [
    {
     "name": "stdout",
     "output_type": "stream",
     "text": [
      "users intercations : [31 10 11 15 22]\n"
     ]
    }
   ],
   "source": [
    "#Display the number of interactions each user has made.\n",
    "all_interactions = Reply + Like + Retweet\n",
    "print(f\"users intercations : {all_interactions.sum(axis=1)}\")"
   ]
  },
  {
   "cell_type": "markdown",
   "metadata": {},
   "source": [
    "# Interaction Statistics"
   ]
  },
  {
   "cell_type": "code",
   "execution_count": 41,
   "metadata": {},
   "outputs": [
    {
     "name": "stdout",
     "output_type": "stream",
     "text": [
      "max number of likes recived from other users [1. 5. 9. 3. 3.] \n"
     ]
    }
   ],
   "source": [
    "#Display the maximum number of likes each user has received (exclude himself)\n",
    "Likes_recived = Like - [Like[i][i] for i in range(Like.shape[0])] * np.eye(Like.shape[0])\n",
    "max_likes_recived = Likes_recived.max(axis=0)\n",
    "print(f\"max number of likes recived from other users {max_likes_recived} \")"
   ]
  },
  {
   "cell_type": "code",
   "execution_count": 46,
   "metadata": {},
   "outputs": [
    {
     "name": "stdout",
     "output_type": "stream",
     "text": [
      "users who have received likes for all their tweets by at least one person [False  True False False  True]\n"
     ]
    }
   ],
   "source": [
    "#Find users who have received likes for all their tweets by at least one person other than themselves.\n",
    "print(f\"users who have received likes for all their tweets by at least one person {max_likes_recived>=Post}\")"
   ]
  },
  {
   "cell_type": "code",
   "execution_count": 52,
   "metadata": {},
   "outputs": [
    {
     "name": "stdout",
     "output_type": "stream",
     "text": [
      "number of incoming_edge [3 3 3 2 4]\n"
     ]
    }
   ],
   "source": [
    "#Calculate the number of incoming edges\n",
    "incoming_edges = (all_interactions > 0).sum(axis=0)\n",
    "print(f\"number of incoming_edge {incoming_edges}\")"
   ]
  },
  {
   "cell_type": "code",
   "execution_count": 50,
   "metadata": {},
   "outputs": [
    {
     "name": "stdout",
     "output_type": "stream",
     "text": [
      "number of outgoing_edge [4 3 3 3 2]\n"
     ]
    }
   ],
   "source": [
    "#Calculate the number of outgoing edges\n",
    "outgoing_edges = (all_interactions > 0).sum(axis=1)\n",
    "print(f\"number of outgoing_edge {outgoing_edges}\")"
   ]
  },
  {
   "cell_type": "code",
   "execution_count": 56,
   "metadata": {},
   "outputs": [
    {
     "name": "stdout",
     "output_type": "stream",
     "text": [
      "[False  True  True False False]\n"
     ]
    }
   ],
   "source": [
    "#nodes where the number of incoming edges is equal to the number of outgoing edges.\n",
    "nodes = outgoing_edges == incoming_edges\n",
    "print(nodes)"
   ]
  },
  {
   "cell_type": "code",
   "execution_count": 64,
   "metadata": {},
   "outputs": [
    {
     "data": {
      "text/plain": [
       "array([[0, 0],\n",
       "       [5, 0]])"
      ]
     },
     "execution_count": 64,
     "metadata": {},
     "output_type": "execute_result"
    }
   ],
   "source": [
    "#Display the likes they have given to each other.\n",
    "Like[:, nodes][nodes,:]"
   ]
  },
  {
   "cell_type": "markdown",
   "metadata": {},
   "source": [
    "# Popularity"
   ]
  },
  {
   "cell_type": "code",
   "execution_count": 68,
   "metadata": {},
   "outputs": [
    {
     "data": {
      "text/plain": [
       "(array([[0., 5., 5., 0., 3.],\n",
       "        [2., 0., 5., 0., 3.],\n",
       "        [0., 0., 0., 0., 0.],\n",
       "        [2., 0., 0., 0., 0.],\n",
       "        [0., 4., 2., 0., 0.]]),\n",
       " array([[0., 0., 0., 0., 0.],\n",
       "        [0., 0., 0., 0., 0.],\n",
       "        [0., 0., 0., 0., 0.],\n",
       "        [0., 0., 0., 0., 0.],\n",
       "        [0., 0., 0., 0., 0.]]),\n",
       " array([[0., 5., 1., 0., 3.],\n",
       "        [0., 0., 0., 0., 0.],\n",
       "        [0., 5., 0., 3., 3.],\n",
       "        [1., 0., 0., 0., 1.],\n",
       "        [0., 0., 9., 0., 0.]]))"
      ]
     },
     "execution_count": 68,
     "metadata": {},
     "output_type": "execute_result"
    }
   ],
   "source": [
    "I = np.eye(Reply.shape[0])\n",
    "I1 = 1 - I\n",
    "\n",
    "Reply_nodiag =Reply * I1\n",
    "Like_nodiag = Like * I1\n",
    "Retweet_diag = Retweet * I\n",
    "\n",
    "Reply_nodiag, Retweet_diag , Like_nodiag"
   ]
  },
  {
   "cell_type": "code",
   "execution_count": 69,
   "metadata": {},
   "outputs": [
    {
     "data": {
      "text/plain": [
       "array([[ 0. ,  0. , -2.5,  0. ,  0. ],\n",
       "       [-1. ,  0. , -2.5,  0. , -1.5],\n",
       "       [ 0. , -0. ,  0. , -0. , -0. ],\n",
       "       [-1. ,  0. ,  0. ,  0. , -0. ],\n",
       "       [ 0. , -2. , -0.5,  0. ,  0. ]])"
      ]
     },
     "execution_count": 69,
     "metadata": {},
     "output_type": "execute_result"
    }
   ],
   "source": [
    "# For each interaction, \n",
    "# if the number of Replies received from a person is more than their Likes, we multiply the number of Replies by (-0.5). \n",
    "# If it is equal, we multiply their own Likes by (-0.25). \n",
    "# Otherwise, it has no effect (0).\n",
    "\n",
    "Reply_score = np.where(Reply_nodiag > Like_nodiag, Reply_nodiag * (-0.5), np.where(Reply_nodiag == Like_nodiag, 0, Reply_nodiag * -0.25) )\n",
    "\n",
    "Reply_score"
   ]
  },
  {
   "cell_type": "code",
   "execution_count": 70,
   "metadata": {},
   "outputs": [],
   "source": [
    "# if someone retweets their own tweets, they will be penalized by (-0.25) for each retweet.\n",
    "\n",
    "Retweet_score = -0.25 * Retweet_diag"
   ]
  },
  {
   "cell_type": "code",
   "execution_count": 73,
   "metadata": {},
   "outputs": [],
   "source": [
    "# For each interaction, \n",
    "# if the number of Likes received from a person is greater than half of the tweets published, we multiply it by (1.5). \n",
    "# Otherwise, the score is the number of Likes.\n",
    "\n",
    "\n",
    "Post_half = Post / 2\n",
    "Post_repeated = np.ones(Like.shape) \n",
    "Post_repeated = Post_repeated * Post_half\n",
    "\n",
    "Like_score = np.where(Like_nodiag > Post_repeated , Like_nodiag * (1.5) , Like_nodiag)"
   ]
  },
  {
   "cell_type": "code",
   "execution_count": 74,
   "metadata": {},
   "outputs": [
    {
     "data": {
      "text/plain": [
       "array([[ 0.        ,  2.5       , -0.5       ,  0.        ,  1.5       ],\n",
       "       [-0.33333333,  0.        , -0.83333333,  0.        , -0.5       ],\n",
       "       [ 0.        ,  2.5       ,  0.        ,  1.5       ,  1.5       ],\n",
       "       [ 0.        ,  0.        ,  0.        ,  0.        ,  0.33333333],\n",
       "       [ 0.        , -0.66666667,  4.33333333,  0.        ,  0.        ]])"
      ]
     },
     "execution_count": 74,
     "metadata": {},
     "output_type": "execute_result"
    }
   ],
   "source": [
    "## Calculate the popularity score for each user for each interaction which is the average of the received scores.\n",
    "detaild_popularity_score = (Reply_score + Retweet_score + Like_score)/3\n",
    "\n",
    "detaild_popularity_score\n"
   ]
  },
  {
   "cell_type": "code",
   "execution_count": 76,
   "metadata": {},
   "outputs": [
    {
     "data": {
      "text/plain": [
       "array([-0.06666667,  0.86666667,  0.6       ,  0.3       ,  0.56666667])"
      ]
     },
     "execution_count": 76,
     "metadata": {},
     "output_type": "execute_result"
    }
   ],
   "source": [
    "popularity_score = detaild_popularity_score.mean(axis=0)\n",
    "\n",
    "popularity_score"
   ]
  },
  {
   "cell_type": "code",
   "execution_count": null,
   "metadata": {},
   "outputs": [],
   "source": []
  }
 ],
 "metadata": {
  "kernelspec": {
   "display_name": ".venv",
   "language": "python",
   "name": "python3"
  },
  "language_info": {
   "codemirror_mode": {
    "name": "ipython",
    "version": 3
   },
   "file_extension": ".py",
   "mimetype": "text/x-python",
   "name": "python",
   "nbconvert_exporter": "python",
   "pygments_lexer": "ipython3",
   "version": "3.12.3"
  }
 },
 "nbformat": 4,
 "nbformat_minor": 2
}
